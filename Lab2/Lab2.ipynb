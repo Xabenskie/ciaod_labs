{
 "cells": [
  {
   "cell_type": "markdown",
   "id": "fifteen-sailing",
   "metadata": {
    "id": "fifteen-sailing"
   },
   "source": [
    "# Лабораторная работа №2\n",
    "## Выполнил студент группы ФИО ГРУППА"
   ]
  },
  {
   "cell_type": "markdown",
   "id": "arctic-stocks",
   "metadata": {
    "id": "arctic-stocks"
   },
   "source": [
    "Реализовать следующие структуры данных:\n",
    "  \n",
    "● <b> Стек (stack): </b>  \n",
    "Операции для стека:\n",
    "<i> инициализация, проверка на пустоту, добавление нового элемента в начало, извлечение элемента из начала;  </i>  \n",
    "  \n",
    "● <b> Дек (двусторонняя очередь, deque):  </b>  \n",
    "Операции для дека:\n",
    "<i> инициализация, проверка на пустоту, добавление нового элемента в начало, добавление нового элемента в конец, извлечение элемента из начала, извлечение элемента из конца. </i>  \n",
    "  \n",
    "<i> Разработать программу обработки данных, содержащихся в заранее подготовленном txt-файле, в соответствии с заданиями, применив указанную в задании структуру данных. Результат работы программы вывести на экран и сохранить в отдельном txt-файле. </i>"
   ]
  },
  {
   "cell_type": "code",
   "execution_count": 296,
   "id": "9813f928",
   "metadata": {},
   "outputs": [],
   "source": [
    "class Stack:\n",
    "    def __init__(self):\n",
    "        self.stack = []\n",
    "\n",
    "    def push(self, disk):\n",
    "        self.stack.append(disk)\n",
    "\n",
    "    def pop(self):\n",
    "        if self.is_empty():\n",
    "            return None\n",
    "        return self.stack.pop()\n",
    "\n",
    "    def is_empty(self):\n",
    "        return len(self.stack) == 0\n",
    "\n",
    "    def __str__(self):\n",
    "        # Возвращаем строковое представление стека\n",
    "        return f\"Stack({', '.join(map(str, self.stack))})\"\n"
   ]
  },
  {
   "cell_type": "code",
   "execution_count": 297,
   "id": "ed48bbde",
   "metadata": {},
   "outputs": [],
   "source": [
    "class Deque:\n",
    "    def __init__(self):\n",
    "        self.items = []\n",
    "\n",
    "    def is_empty(self):\n",
    "        return len(self.items) == 0\n",
    "\n",
    "    def add_front(self, item):\n",
    "        self.items.insert(0, item)\n",
    "\n",
    "    def add_rear(self, item):\n",
    "        self.items.append(item)\n",
    "\n",
    "    def remove_front(self):\n",
    "        if not self.is_empty():\n",
    "            return self.items.pop(0)\n",
    "        return None\n",
    "\n",
    "    def remove_rear(self):\n",
    "        if not self.is_empty():\n",
    "            return self.items.pop()\n",
    "        return None\n",
    "\n",
    "    def size(self):\n",
    "        return len(self.items)"
   ]
  },
  {
   "cell_type": "markdown",
   "id": "5d7edb08",
   "metadata": {
    "id": "5d7edb08",
    "scrolled": true
   },
   "source": [
    "### Задание №1\n",
    "Отсортировать строки файла, содержащие названия книг, в алфавитном порядке с использованием двух деков."
   ]
  },
  {
   "cell_type": "code",
   "execution_count": null,
   "id": "17702ade",
   "metadata": {
    "id": "17702ade"
   },
   "outputs": [
    {
     "name": "stdout",
     "output_type": "stream",
     "text": [
      "Файл отсортирован и сохранён.\n"
     ]
    }
   ],
   "source": [
    "def sort_books(file_path, output_path):\n",
    "    try:\n",
    "        with open(file_path, 'r', encoding='utf-8') as f:\n",
    "            books = [line.strip() for line in f]\n",
    "\n",
    "        if not books:\n",
    "            print(\"Файл пуст или не содержит данных.\")\n",
    "            return\n",
    "\n",
    "        deque1 = Deque()\n",
    "        for book in books:\n",
    "            deque1.add_rear(book)\n",
    "\n",
    "        sorted_books = []\n",
    "        \n",
    "        while not deque1.is_empty():\n",
    "            min_book = min(deque1.items)  # Находим минимальный элемент\n",
    "            sorted_books.append(min_book)  # Добавляем в отсортированный список\n",
    "            deque1.items.remove(min_book)  # Удаляем его из дека\n",
    "\n",
    "        with open(output_path, 'w', encoding='utf-8') as f:\n",
    "            f.write('\\n'.join(sorted_books))\n",
    "\n",
    "        print(\"Файл отсортирован и сохранён.\")\n",
    "\n",
    "    except FileNotFoundError:\n",
    "        print(f\"Ошибка: файл {file_path} не найден.\")\n",
    "    except Exception as e:\n",
    "        print(f\"Произошла ошибка: {e}\")\n",
    "\n",
    "# Пример использования\n",
    "sort_books('books.txt', 'sorted_books.txt')"
   ]
  },
  {
   "cell_type": "markdown",
   "id": "49fbd2a0",
   "metadata": {
    "id": "49fbd2a0"
   },
   "source": [
    "### Задание №2\n",
    "Дек содержит последовательность символов для шифровки сообщений. Дан текстовый файл, содержащий зашифрованное сообщение. Пользуясь деком, расшифровать текст.\n",
    "Известно, что при шифровке каждый символ сообщения заменялся следующим за ним в деке по часовой стрелке через один."
   ]
  },
  {
   "cell_type": "code",
   "execution_count": 299,
   "id": "81cab7a8",
   "metadata": {
    "id": "81cab7a8"
   },
   "outputs": [
    {
     "name": "stdout",
     "output_type": "stream",
     "text": [
      "Сообщение расшифровано и сохранено в файл: decrypted_message.txt\n"
     ]
    }
   ],
   "source": [
    "def decrypt_message(input_file, output_file, deq):\n",
    "    \"\"\"Расшифровывает сообщение, заменяя символы с шагом -1 в деке.\"\"\"\n",
    "    try:\n",
    "        # Читаем зашифрованный текст из файла\n",
    "        with open(input_file, 'r', encoding='utf-8') as f:\n",
    "            encrypted_text = f.read()\n",
    "\n",
    "        # Расшифровываем текст\n",
    "        decrypted_text = \"\"\n",
    "        for char in encrypted_text:\n",
    "            if char in deq.items:\n",
    "                index = deq.items.index(char)\n",
    "                decrypted_text += deq.items[(index - 1) % len(deq.items)]  # Сдвиг назад в деке\n",
    "            else:\n",
    "                decrypted_text += char  # Не шифруемые символы\n",
    "\n",
    "        # Сохраняем расшифрованный текст в файл\n",
    "        with open(output_file, 'w', encoding='utf-8') as f:\n",
    "            f.write(decrypted_text)\n",
    "\n",
    "        print(f\"Сообщение расшифровано и сохранено в файл: {output_file}\")\n",
    "\n",
    "    except FileNotFoundError:\n",
    "        print(f\"Файл {input_file} не найден. Убедитесь, что файл существует.\")\n",
    "    except Exception as e:\n",
    "        print(f\"Произошла ошибка: {e}\")\n",
    "\n",
    "\n",
    "# Создание дека с символами шифра\n",
    "deq = Deque()\n",
    "deq.add_rear('A')\n",
    "deq.add_rear('B')\n",
    "deq.add_rear('C')\n",
    "deq.add_rear('D')\n",
    "\n",
    "# Расшифровка файла\n",
    "decrypt_message('encrypted_message.txt', 'decrypted_message.txt', deq)"
   ]
  },
  {
   "cell_type": "markdown",
   "id": "c0894f47",
   "metadata": {
    "id": "c0894f47"
   },
   "source": [
    "### Задание №3\n",
    "Даны три стержня и n дисков различного размера. Диски можно надевать на стержни, образуя из них башни. Перенести n дисков со стержня А на стержень С, сохранив их первоначальный порядок. При переносе дисков необходимо соблюдать следующие правила:\n",
    "- на каждом шаге со стержня на стержень переносить только один диск;\n",
    "- диск нельзя помещать на диск меньшего размера;\n",
    "- для промежуточного хранения можно использовать стержень В.\n",
    "Реализовать алгоритм, используя три стека вместо стержней А, В, С. Информация о дисках хранится в исходном файле."
   ]
  },
  {
   "cell_type": "code",
   "execution_count": 300,
   "id": "9e91a9d4",
   "metadata": {
    "id": "9e91a9d4"
   },
   "outputs": [
    {
     "name": "stdout",
     "output_type": "stream",
     "text": [
      "Перемещение диска 1 с Stack(3, 2) на Stack(1)\n",
      "Перемещение диска 2 с Stack(3) на Stack(2)\n",
      "Перемещение диска 1 с Stack() на Stack(2, 1)\n",
      "Перемещение диска 3 с Stack() на Stack(3)\n",
      "Перемещение диска 1 с Stack(2) на Stack(1)\n",
      "Перемещение диска 2 с Stack() на Stack(3, 2)\n",
      "Перемещение диска 1 с Stack() на Stack(3, 2, 1)\n"
     ]
    }
   ],
   "source": [
    "def hanoi(n, source, target, auxiliary):\n",
    "    if n > 0:\n",
    "        hanoi(n - 1, source, auxiliary, target)\n",
    "        disk = source.pop()\n",
    "        print(f\"Перемещение диска {disk} с {source} на {target}\")\n",
    "        target.push(disk)\n",
    "        hanoi(n - 1, auxiliary, target, source)\n",
    "\n",
    "def move_disk(from_stack, to_stack):\n",
    "    disk = from_stack.pop()\n",
    "    to_stack.push(disk)\n",
    "    print(f\"Перемещение диска {disk} с {from_stack} на {to_stack}\")\n",
    "\n",
    "def hanoi(n, A, B, C):\n",
    "    if n == 1:\n",
    "        move_disk(A, C)\n",
    "    else:\n",
    "        hanoi(n - 1, A, C, B)  # Перемещаем n-1 дисков с A на B\n",
    "        move_disk(A, C)         # Перемещаем последний диск с A на C\n",
    "        hanoi(n - 1, B, A, C)   # Перемещаем n-1 дисков с B на C\n",
    "\n",
    "def main():\n",
    "    # Стек A (исходная башня)\n",
    "    A = Stack()\n",
    "    for i in range(3, 0, -1):  # Добавляем диски на A (в обратном порядке)\n",
    "        A.push(i)\n",
    "\n",
    "    B = Stack()  # Вспомогательная башня\n",
    "    C = Stack()  # Целевая башня\n",
    "\n",
    "    # Переносим 3 диска с A на C\n",
    "    hanoi(3, A, B, C)\n",
    "\n",
    "if __name__ == \"__main__\":\n",
    "    main()"
   ]
  },
  {
   "cell_type": "markdown",
   "id": "e5b0be17",
   "metadata": {
    "id": "e5b0be17"
   },
   "source": [
    "### Задание №4\n",
    "Дан текстовый файл с программой на алгоритмическом языке. За один просмотр файла проверить баланс круглых скобок в тексте, используя стек."
   ]
  },
  {
   "cell_type": "code",
   "execution_count": 301,
   "id": "5b1df60a",
   "metadata": {
    "id": "5b1df60a"
   },
   "outputs": [
    {
     "name": "stdout",
     "output_type": "stream",
     "text": [
      "Скобки не сбалансированы.\n"
     ]
    }
   ],
   "source": [
    "def check_parentheses_balance(file_path):\n",
    "    stack = Stack()  # Создаем стек\n",
    "    with open(file_path, 'r', encoding='utf-8') as f:  # Открываем файл по переданному пути\n",
    "        text = f.read()\n",
    "\n",
    "    for char in text:\n",
    "        if char == '(':  # Если открывающая скобка\n",
    "            stack.push(char)\n",
    "        elif char == ')':  # Если закрывающая скобка\n",
    "            if stack.is_empty():  # Если стек пуст, скобки не сбалансированы\n",
    "                return False\n",
    "            stack.pop()  # Убираем из стека\n",
    "\n",
    "    return stack.is_empty()  # Если стек пуст, значит, скобки сбалансированы\n",
    "\n",
    "# Указываем путь к файлу\n",
    "file_path = 'balance.txt'  \n",
    "\n",
    "# Вызов функции и вывод результата\n",
    "if check_parentheses_balance(file_path):\n",
    "    print(\"Скобки сбалансированы.\")\n",
    "else:\n",
    "    print(\"Скобки не сбалансированы.\")"
   ]
  },
  {
   "cell_type": "markdown",
   "id": "c44cdd6b",
   "metadata": {
    "id": "c44cdd6b"
   },
   "source": [
    "### Задание №5\n",
    "Дан текстовый файл с программой на алгоритмическом языке. За один просмотр файла проверить баланс квадратных скобок в тексте, используя дек."
   ]
  },
  {
   "cell_type": "code",
   "execution_count": 302,
   "id": "36b8f400",
   "metadata": {
    "id": "36b8f400"
   },
   "outputs": [
    {
     "name": "stdout",
     "output_type": "stream",
     "text": [
      "Скобки не сбалансированы.\n"
     ]
    }
   ],
   "source": [
    "def check_square_brackets_balance(file_path):\n",
    "    deque = Deque()\n",
    "    with open(file_path, 'r', encoding='utf-8') as f:\n",
    "        text = f.read()\n",
    "\n",
    "    for char in text:\n",
    "        if char == '[':\n",
    "            deque.add_rear(char)\n",
    "        elif char == ']':\n",
    "            if deque.is_empty():\n",
    "                return False\n",
    "            deque.remove_rear()\n",
    "\n",
    "    return deque.is_empty()\n",
    "\n",
    "file_path = \"square_brackets.txt\"\n",
    "if check_square_brackets_balance(file_path):\n",
    "    print(\"Скобки сбалансированы.\")\n",
    "else:\n",
    "    print(\"Скобки не сбалансированы.\")\n"
   ]
  },
  {
   "cell_type": "markdown",
   "id": "59d13dc7",
   "metadata": {
    "id": "59d13dc7"
   },
   "source": [
    "### Задание №6\n",
    "Дан файл из символов. Используя стек, за один просмотр файла напечатать сначала все цифры, затем все буквы, и, наконец, все остальные символы, сохраняя исходный порядок в каждой группе символов."
   ]
  },
  {
   "cell_type": "code",
   "execution_count": 303,
   "id": "297e36c2",
   "metadata": {
    "id": "297e36c2"
   },
   "outputs": [
    {
     "name": "stdout",
     "output_type": "stream",
     "text": [
      "1234567890abcdefghij!@#$%^&*()\n",
      "\n"
     ]
    }
   ],
   "source": [
    "def sort_symbols(file_path):\n",
    "    numbers = Stack()\n",
    "    letters = Stack()\n",
    "    others = Stack()\n",
    "\n",
    "    with open(file_path, 'r', encoding='utf-8') as f:\n",
    "        text = f.read()\n",
    "\n",
    "    for char in text:\n",
    "        if char.isdigit():\n",
    "            numbers.push(char)\n",
    "        elif char.isalpha():\n",
    "            letters.push(char)\n",
    "        else:\n",
    "            others.push(char)\n",
    "\n",
    "    print(\"\".join(numbers.stack + letters.stack + others.stack))\n",
    "\n",
    "\n",
    "# Тестирование\n",
    "file_path = \"symbols.txt\"\n",
    "sort_symbols(file_path)"
   ]
  },
  {
   "cell_type": "markdown",
   "id": "973f68bd",
   "metadata": {
    "id": "973f68bd"
   },
   "source": [
    "### Задание №7\n",
    "Дан файл из целых чисел. Используя дек, за один просмотр файла напечатать сначала все отрицательные числа, затем все положительные числа, сохраняя исходный порядок в каждой группе."
   ]
  },
  {
   "cell_type": "code",
   "execution_count": 304,
   "id": "c56fad66",
   "metadata": {
    "id": "c56fad66"
   },
   "outputs": [
    {
     "name": "stdout",
     "output_type": "stream",
     "text": [
      "[-3, -1, -7, 5, 8, 0, 2]\n"
     ]
    }
   ],
   "source": [
    "def sort_numbers(file_path):\n",
    "    negative = Deque()\n",
    "    positive = Deque()\n",
    "\n",
    "    with open(file_path, 'r', encoding='utf-8') as f:\n",
    "        numbers = [int(line.strip()) for line in f if line.strip()]\n",
    "\n",
    "    for num in numbers:\n",
    "        if num < 0:\n",
    "            negative.add_rear(num)\n",
    "        else:\n",
    "            positive.add_rear(num)\n",
    "\n",
    "    print(negative.items + positive.items)\n",
    "\n",
    "\n",
    "# Тестирование\n",
    "file_path = \"numbers.txt\"\n",
    "sort_numbers(file_path)"
   ]
  },
  {
   "cell_type": "markdown",
   "id": "b9228191",
   "metadata": {
    "id": "b9228191"
   },
   "source": [
    "### Задание №8\n",
    "Дан текстовый файл. Используя стек, сформировать новый текстовый файл, содержащий строки исходного файла, записанные в обратном порядке: первая строка становится последней, вторая – предпоследней и т.д."
   ]
  },
  {
   "cell_type": "code",
   "execution_count": 305,
   "id": "981fbdfe",
   "metadata": {
    "id": "981fbdfe"
   },
   "outputs": [
    {
     "name": "stdout",
     "output_type": "stream",
     "text": [
      "Файл reverse.txt успешно перевёрнут.\n"
     ]
    }
   ],
   "source": [
    "def reverse_lines(file_path, output_path):\n",
    "    stack = Stack()\n",
    "\n",
    "    try:\n",
    "        with open(file_path, 'r', encoding='utf-8') as f:\n",
    "            for line in f:\n",
    "                stack.push(line.rstrip())  # Убираем \\n в конце строки\n",
    "\n",
    "        with open(output_path, 'w', encoding='utf-8') as f:\n",
    "            while not stack.is_empty():\n",
    "                f.write(stack.pop() + '\\n')  # Добавляем \\n при записи\n",
    "\n",
    "        print(f\"Файл {output_path} успешно перевёрнут.\")\n",
    "\n",
    "    except FileNotFoundError:\n",
    "        print(f\"Ошибка: файл {file_path} не найден.\")\n",
    "\n",
    "# Тестирование\n",
    "input_file = \"unreverse.txt\"\n",
    "output_file = \"reverse.txt\"\n",
    "reverse_lines(input_file, output_file)"
   ]
  },
  {
   "cell_type": "markdown",
   "id": "rental-jerusalem",
   "metadata": {
    "id": "rental-jerusalem"
   },
   "source": [
    "### Вывод\n"
   ]
  },
  {
   "cell_type": "markdown",
   "id": "0c2b8899",
   "metadata": {
    "id": "0c2b8899"
   },
   "source": []
  }
 ],
 "metadata": {
  "colab": {
   "provenance": [
    {
     "file_id": "1SJnopeql2j1MhzcaJ8o68KaPzPnynIeK",
     "timestamp": 1676536264821
    }
   ]
  },
  "kernelspec": {
   "display_name": "Python 3",
   "language": "python",
   "name": "python3"
  },
  "language_info": {
   "codemirror_mode": {
    "name": "ipython",
    "version": 3
   },
   "file_extension": ".py",
   "mimetype": "text/x-python",
   "name": "python",
   "nbconvert_exporter": "python",
   "pygments_lexer": "ipython3",
   "version": "3.9.6"
  }
 },
 "nbformat": 4,
 "nbformat_minor": 5
}
