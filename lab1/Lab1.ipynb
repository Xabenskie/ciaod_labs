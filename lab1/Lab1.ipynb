{
 "cells": [
  {
   "cell_type": "markdown",
   "id": "fifteen-sailing",
   "metadata": {
    "id": "fifteen-sailing"
   },
   "source": [
    "# Лабораторная работа №1\n",
    "## Выполнил студент группы Лукьянов К.Р. БПИ2303"
   ]
  },
  {
   "cell_type": "markdown",
   "id": "particular-syndicate",
   "metadata": {
    "id": "particular-syndicate"
   },
   "source": [
    "### Оглавление\n",
    "1. [Задание 1](#Задание-№1)\n",
    "2. [Задание 2](#Задание-№2)\n",
    "3. [Задание 3](#Задание-№3)\n",
    "4. [Вывод](#Вывод)"
   ]
  },
  {
   "cell_type": "markdown",
   "id": "arctic-stocks",
   "metadata": {
    "id": "arctic-stocks"
   },
   "source": [
    "### Задание №1\n",
    "<i> Вызвать функцию print() и передать туда строку Hello, World! </i>"
   ]
  },
  {
   "cell_type": "code",
   "execution_count": 1,
   "id": "caring-truck",
   "metadata": {
    "id": "caring-truck",
    "scrolled": true
   },
   "outputs": [
    {
     "name": "stdout",
     "output_type": "stream",
     "text": [
      "hello,world!\n"
     ]
    }
   ],
   "source": [
    "print(\"hello,world!\")"
   ]
  },
  {
   "cell_type": "markdown",
   "id": "maritime-conversation",
   "metadata": {
    "id": "maritime-conversation"
   },
   "source": [
    "### Задание №2\n",
    "Написать генератор случайных матриц(многомерных), который принимает\n",
    "опциональные параметры <b>m</b>, <b>n</b>, <b>min_limit</b>, <b>max_limit</b>, где <b>m</b> и <b>n</b> указывают размер\n",
    "матрицы, а <b>min_lim</b> и <b>max_lim</b> - минимальное и максимальное значение для\n",
    "генерируемого числа."
   ]
  },
  {
   "cell_type": "code",
   "execution_count": 2,
   "id": "built-contact",
   "metadata": {
    "id": "built-contact"
   },
   "outputs": [],
   "source": [
    "import random\n",
    "import time"
   ]
  },
  {
   "cell_type": "code",
   "execution_count": 3,
   "id": "alert-charm",
   "metadata": {
    "id": "alert-charm",
    "outputId": "c95dd9e7-d076-4718-b6fb-25f2e6bc03b9"
   },
   "outputs": [
    {
     "name": "stdout",
     "output_type": "stream",
     "text": [
      "[4, 4, 1, 2, 2]\n",
      "[3, 1, 2, 5, 1]\n",
      "[4, 4, 1, 2, 1]\n",
      "[2, 2, 3, 3, 3]\n",
      "[5, 4, 3, 4, 1]\n"
     ]
    }
   ],
   "source": [
    "user_m = input()\n",
    "user_n = input()\n",
    "user_min_limit = input()\n",
    "user_max_limit = input()\n",
    "\n",
    "m = int(user_m)\n",
    "n = int(user_n)\n",
    "min_lim = int(user_min_limit)\n",
    "max_lim = int(user_max_limit)\n",
    "\n",
    "if max_lim < min_lim:\n",
    "    print(\"макс лимит должен быть больше минимального\")\n",
    "    exit()\n",
    "    \n",
    "\n",
    "def matrix (m,n,min_lim,max_lim ):\n",
    "    return [[random.randint(min_lim, max_lim) for _ in range(n)] for _ in range(m)]\n",
    "\n",
    "matr = matrix(m,n,min_lim,max_lim)\n",
    "\n",
    "for row in matr:\n",
    "    print(row)"
   ]
  },
  {
   "cell_type": "markdown",
   "id": "catholic-roots",
   "metadata": {
    "id": "catholic-roots"
   },
   "source": [
    "### Задание №3\n",
    "Реализовать методы сортировки строк числовой матрицы в соответствии с\n",
    "заданием. Оценить время работы каждого алгоритма сортировки и сравнить его со\n",
    "временем стандартной функции сортировки. Испытания проводить на сгенерированных\n",
    "матрицах."
   ]
  },
  {
   "cell_type": "code",
   "execution_count": 4,
   "id": "opposed-creature",
   "metadata": {
    "id": "opposed-creature"
   },
   "outputs": [],
   "source": [
    "import copy"
   ]
  },
  {
   "cell_type": "code",
   "execution_count": 5,
   "id": "cleared-anniversary",
   "metadata": {
    "id": "cleared-anniversary",
    "outputId": "b7c76c60-4acb-4c14-9bfb-d4f8d71093a1"
   },
   "outputs": [
    {
     "name": "stdout",
     "output_type": "stream",
     "text": [
      "cортировка выбором: 0.11539459228515625 мс\n",
      "cортировка обычная: 0.10323524475097656 мс\n",
      "стандартная\n",
      "[4, 4, 1, 2, 2]\n",
      "[3, 1, 2, 5, 1]\n",
      "[4, 4, 1, 2, 1]\n",
      "[2, 2, 3, 3, 3]\n",
      "[5, 4, 3, 4, 1]\n",
      "отсортированая выбором\n",
      "[1, 2, 2, 4, 4]\n",
      "[1, 1, 2, 3, 5]\n",
      "[1, 1, 2, 4, 4]\n",
      "[2, 2, 3, 3, 3]\n",
      "[1, 3, 4, 4, 5]\n"
     ]
    }
   ],
   "source": [
    "def selection_sort(row):\n",
    "    for i in range(len(row)):\n",
    "        min_index = i\n",
    "        for j in range(i + 1, len(row)):\n",
    "            if row[j] < row[min_index]:\n",
    "                min_index = j\n",
    "        row[i], row[min_index] = row[min_index], row[i]\n",
    "    return row\n",
    "\n",
    "\n",
    "selection = [row[:] for row in matr]\n",
    "sort = [row[:] for row in matr]\n",
    "\n",
    "start_time = time.time()\n",
    "sorted_selection = [selection_sort(row) for row in selection]\n",
    "selection_time = round((time.time() - start_time) * 1000,20)\n",
    "print(f\"cортировка выбором: {selection_time} мс\")\n",
    "\n",
    "start_time = time.time()\n",
    "sorted_defult = [sorted(row) for row in sort]\n",
    "sort_time = round((time.time() - start_time) * 1000,20)\n",
    "print(f\"cортировка обычная: {sort_time} мс\")\n",
    "\n",
    "\n",
    "print(\"стандартная\")\n",
    "for row in matr:\n",
    "    print(row)\n",
    "\n",
    "print(\"отсортированая выбором\")\n",
    "for row in selection:\n",
    "    print(row)\n",
    "\n",
    "\n",
    "\n",
    "\n",
    "\n",
    "\n",
    "\n"
   ]
  },
  {
   "cell_type": "code",
   "execution_count": 6,
   "id": "roman-silly",
   "metadata": {
    "id": "roman-silly",
    "outputId": "84666b71-fb68-4c07-d27d-e716af29fcbb",
    "scrolled": true
   },
   "outputs": [
    {
     "name": "stdout",
     "output_type": "stream",
     "text": [
      "сортировка вставкой: 0.09 мс\n",
      "обычная сортировка: 0.1 мс\n",
      "исходная матрица:\n",
      "[4, 4, 1, 2, 2]\n",
      "[3, 1, 2, 5, 1]\n",
      "[4, 4, 1, 2, 1]\n",
      "[2, 2, 3, 3, 3]\n",
      "[5, 4, 3, 4, 1]\n",
      "отсортированная сортировкой вставкой:\n",
      "[1, 2, 2, 4, 4]\n",
      "[1, 1, 2, 3, 5]\n",
      "[1, 1, 2, 4, 4]\n",
      "[2, 2, 3, 3, 3]\n",
      "[1, 3, 4, 4, 5]\n"
     ]
    }
   ],
   "source": [
    "# Сортировка вставкой.\n",
    "def insertion_sort(row):\n",
    "    for i in range(1, len(row)):\n",
    "        current_value = row[i]\n",
    "        j = i - 1 \n",
    "        while j >= 0 and row[j] > current_value:\n",
    "            row[j + 1] = row[j]\n",
    "            j -= 1 \n",
    "        row[j + 1] = current_value\n",
    "    return row\n",
    "\n",
    "insertion = [row[:] for row in matr]  \n",
    "default_sort = [row[:] for row in matr]  \n",
    "\n",
    "start_time = time.time()\n",
    "sorted_insertion = [insertion_sort(row) for row in insertion]\n",
    "insertion_time = round((time.time() - start_time) * 1000, 2)\n",
    "print(f\"сортировка вставкой: {insertion_time} мс\")\n",
    "\n",
    "start_time = time.time()\n",
    "sorted_default = [sorted(row) for row in default_sort]\n",
    "default_time = round((time.time() - start_time) * 1000, 2)\n",
    "print(f\"обычная сортировка: {default_time} мс\")\n",
    "\n",
    "print(\"исходная матрица:\")\n",
    "for row in matr:\n",
    "    print(row)\n",
    "\n",
    "print(\"отсортированная сортировкой вставкой:\")\n",
    "for row in sorted_insertion:\n",
    "    print(row)\n",
    "\n",
    "\n"
   ]
  },
  {
   "cell_type": "code",
   "execution_count": 7,
   "id": "vital-implementation",
   "metadata": {
    "id": "vital-implementation",
    "outputId": "7b648bf5-37a5-4d47-926d-b799f7a23be2"
   },
   "outputs": [
    {
     "name": "stdout",
     "output_type": "stream",
     "text": [
      "Сортировка пузырьком: 0.08 мс\n",
      "Обычная сортировка: 0.09 мс\n",
      "\n",
      "Исходная матрица:\n",
      "[4, 4, 1, 2, 2]\n",
      "[3, 1, 2, 5, 1]\n",
      "[4, 4, 1, 2, 1]\n",
      "[2, 2, 3, 3, 3]\n",
      "[5, 4, 3, 4, 1]\n",
      "\n",
      "Отсортированная сортировкой пузырьком:\n",
      "[1, 2, 2, 4, 4]\n",
      "[1, 1, 2, 3, 5]\n",
      "[1, 1, 2, 4, 4]\n",
      "[2, 2, 3, 3, 3]\n",
      "[1, 3, 4, 4, 5]\n"
     ]
    }
   ],
   "source": [
    "# Сортировка обменом. || Сортировка пузырьком.\n",
    "def bubble_sort(row):\n",
    "    n = len(row)\n",
    "    for i in range(n - 1):\n",
    "        for j in range(n - 1 - i): \n",
    "            if row[j] > row[j + 1]:\n",
    "                row[j], row[j + 1] = row[j + 1], row[j]  \n",
    "    return row\n",
    "\n",
    "bubble = [row[:] for row in matr]  \n",
    "default_sort = [row[:] for row in matr]  \n",
    "\n",
    "start_time = time.time()\n",
    "sorted_bubble = [bubble_sort(row) for row in bubble]\n",
    "bubble_time = round((time.time() - start_time) * 1000, 2)\n",
    "print(f\"Сортировка пузырьком: {bubble_time} мс\")\n",
    "\n",
    "start_time = time.time()\n",
    "sorted_default = [sorted(row) for row in default_sort]\n",
    "default_time = round((time.time() - start_time) * 1000, 2)\n",
    "print(f\"Обычная сортировка: {default_time} мс\")\n",
    "\n",
    "print(\"\\nИсходная матрица:\")\n",
    "for row in matr:\n",
    "    print(row)\n",
    "\n",
    "print(\"\\nОтсортированная сортировкой пузырьком:\")\n",
    "for row in sorted_bubble:\n",
    "    print(row)"
   ]
  },
  {
   "cell_type": "code",
   "execution_count": 8,
   "id": "veterinary-glory",
   "metadata": {
    "id": "veterinary-glory",
    "outputId": "9cc2a9ff-ec7a-43de-e4a8-47945d030986"
   },
   "outputs": [
    {
     "name": "stdout",
     "output_type": "stream",
     "text": [
      "Сортировка Шелла: 0.08 мс\n",
      "Обычная сортировка: 0.07 мс\n",
      "\n",
      "Исходная матрица:\n",
      "[4, 4, 1, 2, 2]\n",
      "[3, 1, 2, 5, 1]\n",
      "[4, 4, 1, 2, 1]\n",
      "[2, 2, 3, 3, 3]\n",
      "[5, 4, 3, 4, 1]\n",
      "\n",
      "Отсортированная сортировкой Шелла:\n",
      "[1, 2, 2, 4, 4]\n",
      "[1, 1, 2, 3, 5]\n",
      "[1, 1, 2, 4, 4]\n",
      "[2, 2, 3, 3, 3]\n",
      "[1, 3, 4, 4, 5]\n"
     ]
    }
   ],
   "source": [
    "# Сортировка Шелла.\n",
    "def shell_sort(row):\n",
    "    z =  len(row) // 2  \n",
    "\n",
    "    while z > 0:\n",
    "        for i in range(z,len(row) ): \n",
    "            temp = row[i]  \n",
    "            j = i\n",
    "\n",
    "            while j >= z and row[j - z] > temp:\n",
    "                row[j] = row[j - z]\n",
    "                j -= z\n",
    "\n",
    "            row[j] = temp \n",
    "\n",
    "        z //= 2  \n",
    "\n",
    "    return row\n",
    "\n",
    "shell = [row[:] for row in matr]  \n",
    "default_sort = [row[:] for row in matr]  \n",
    "\n",
    "start_time = time.time()\n",
    "sorted_shell = [shell_sort(row) for row in shell]\n",
    "shell_time = round((time.time() - start_time) * 1000, 2)\n",
    "print(f\"Сортировка Шелла: {shell_time} мс\")\n",
    "\n",
    "start_time = time.time()\n",
    "sorted_default = [sorted(row) for row in default_sort]\n",
    "default_time = round((time.time() - start_time) * 1000, 2)\n",
    "print(f\"Обычная сортировка: {default_time} мс\")\n",
    "\n",
    "print(\"\\nИсходная матрица:\")\n",
    "for row in matr:\n",
    "    print(row)\n",
    "\n",
    "print(\"\\nОтсортированная сортировкой Шелла:\")\n",
    "for row in sorted_shell:\n",
    "    print(row)"
   ]
  },
  {
   "cell_type": "code",
   "execution_count": 9,
   "id": "correct-chaos",
   "metadata": {
    "id": "correct-chaos",
    "outputId": "f4d9aef1-8a2f-46a0-def0-4c9e049f5c77"
   },
   "outputs": [
    {
     "name": "stdout",
     "output_type": "stream",
     "text": [
      "Быстрая сортировка: 0.09 мс\n",
      "Стандартная сортировка: 0.07 мс\n",
      "\n",
      "Исходная матрица:\n",
      "[4, 4, 1, 2, 2]\n",
      "[3, 1, 2, 5, 1]\n",
      "[4, 4, 1, 2, 1]\n",
      "[2, 2, 3, 3, 3]\n",
      "[5, 4, 3, 4, 1]\n",
      "\n",
      "Отсортированная:\n",
      "[1, 2, 2, 4, 4]\n",
      "[1, 1, 2, 3, 5]\n",
      "[1, 1, 2, 4, 4]\n",
      "[2, 2, 3, 3, 3]\n",
      "[1, 3, 4, 4, 5]\n"
     ]
    }
   ],
   "source": [
    "# Быстрая сортировка.\n",
    "def quick_sort(row):\n",
    "    if len(row) <= 1:\n",
    "        return row\n",
    "\n",
    "    pivot = row[len(row) // 2]\n",
    "    left = [x for x in row if x < pivot]\n",
    "    middle = [x for x in row if x == pivot]\n",
    "    right = [x for x in row if x > pivot]\n",
    "\n",
    "    return quick_sort(left) + middle + quick_sort(right)\n",
    "\n",
    "quick_sorted_matr = [row[:] for row in matr]\n",
    "\n",
    "start_time = time.time()\n",
    "sorted_quick = [quick_sort(row) for row in quick_sorted_matr]\n",
    "quick_time = round((time.time() - start_time) * 1000, 2)\n",
    "\n",
    "start_time = time.time()\n",
    "sorted_default = [sorted(row) for row in matr]\n",
    "default_time = round((time.time() - start_time) * 1000, 2)\n",
    "\n",
    "print(f\"Быстрая сортировка: {quick_time} мс\")\n",
    "print(f\"Стандартная сортировка: {default_time} мс\")\n",
    "\n",
    "print(\"\\nИсходная матрица:\")\n",
    "for row in matr:\n",
    "    print(row)\n",
    "\n",
    "print(\"\\nОтсортированная:\")\n",
    "for row in sorted_quick:\n",
    "    print(row)   "
   ]
  },
  {
   "cell_type": "code",
   "execution_count": 10,
   "id": "french-czech",
   "metadata": {
    "colab": {
     "base_uri": "https://localhost:8080/",
     "height": 217
    },
    "executionInfo": {
     "elapsed": 433,
     "status": "error",
     "timestamp": 1645638345253,
     "user": {
      "displayName": "Sergey Simonov",
      "photoUrl": "https://lh3.googleusercontent.com/a-/AOh14GhQdeIfzzsg8bfb7DLHaLzEFH8Ebg2FyuaL9YoQyA=s64",
      "userId": "14094206399671235086"
     },
     "user_tz": -180
    },
    "id": "french-czech",
    "outputId": "7e38b779-8bbf-4955-c3ad-2a6be0ee386a"
   },
   "outputs": [
    {
     "name": "stdout",
     "output_type": "stream",
     "text": [
      "Турнирная сортировка: 0.0875 мс\n",
      "Стандартная сортировка: 0.07153 мс\n",
      "\n",
      "Исходная матрица:\n",
      "[4, 4, 1, 2, 2]\n",
      "[3, 1, 2, 5, 1]\n",
      "[4, 4, 1, 2, 1]\n",
      "[2, 2, 3, 3, 3]\n",
      "[5, 4, 3, 4, 1]\n",
      "\n",
      "Отсортированная (Tournament Sort):\n",
      "[1, 2, 2, 4, 4]\n",
      "[1, 1, 2, 3, 5]\n",
      "[1, 1, 2, 4, 4]\n",
      "[2, 2, 3, 3, 3]\n",
      "[1, 3, 4, 4, 5]\n"
     ]
    }
   ],
   "source": [
    "# Турнирная сортировка.\n",
    "def tournament_sort(arr):\n",
    "    n = len(arr)\n",
    "    if n == 0:\n",
    "        return arr\n",
    "\n",
    "    arr_copy = arr[:]\n",
    "    sorted_arr = []\n",
    "\n",
    "    while arr_copy:\n",
    "        min_val = min(arr_copy)\n",
    "        sorted_arr.append(min_val)\n",
    "        arr_copy.remove(min_val)\n",
    "\n",
    "    return sorted_arr\n",
    "\n",
    "tournament_sorted_matr = [row[:] for row in matr]\n",
    "start_time = time.time()\n",
    "sorted_tournament = [tournament_sort(row) for row in tournament_sorted_matr]\n",
    "tournament_time = round((time.time() - start_time) * 1000, 5)\n",
    "\n",
    "start_time = time.time()\n",
    "sorted_default = [sorted(row) for row in matr]\n",
    "default_time = round((time.time() - start_time) * 1000, 5)\n",
    "\n",
    "print(f\"Турнирная сортировка: {tournament_time} мс\")\n",
    "print(f\"Стандартная сортировка: {default_time} мс\")\n",
    "\n",
    "print(\"\\nИсходная матрица:\")\n",
    "for row in matr:\n",
    "    print(row)\n",
    "\n",
    "print(\"\\nОтсортированная (Tournament Sort):\")\n",
    "for row in sorted_tournament:\n",
    "    print(row)"
   ]
  },
  {
   "cell_type": "markdown",
   "id": "rental-jerusalem",
   "metadata": {
    "id": "rental-jerusalem"
   },
   "source": [
    "### Вывод\n"
   ]
  },
  {
   "cell_type": "markdown",
   "id": "9d108a0a",
   "metadata": {
    "id": "9d108a0a"
   },
   "source": []
  }
 ],
 "metadata": {
  "colab": {
   "provenance": []
  },
  "kernelspec": {
   "display_name": "Python 3",
   "language": "python",
   "name": "python3"
  },
  "language_info": {
   "codemirror_mode": {
    "name": "ipython",
    "version": 3
   },
   "file_extension": ".py",
   "mimetype": "text/x-python",
   "name": "python",
   "nbconvert_exporter": "python",
   "pygments_lexer": "ipython3",
   "version": "3.13.2"
  }
 },
 "nbformat": 4,
 "nbformat_minor": 5
}
